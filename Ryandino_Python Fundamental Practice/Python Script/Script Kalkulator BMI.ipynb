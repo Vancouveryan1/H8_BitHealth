{
 "cells": [
  {
   "cell_type": "code",
   "execution_count": 1,
   "metadata": {},
   "outputs": [
    {
     "name": "stdout",
     "output_type": "stream",
     "text": [
      "BMI Anda adalah 22.84 (Normal).\n"
     ]
    }
   ],
   "source": [
    "def hitung_bmi (berat, tinggi):\n",
    "    tinggi_m = tinggi / 100\n",
    "    bmi = berat / (tinggi_m ** 2)\n",
    "    return bmi\n",
    "\n",
    "def kategori_bmi (bmi):\n",
    "    if bmi < 18.5:\n",
    "        return \"Kurus\"\n",
    "    elif 18.5 <= bmi < 24.9:\n",
    "        return \"Normal\"\n",
    "    elif 25 <= bmi < 29.9:\n",
    "        return \"Gemuk\"\n",
    "    else:\n",
    "        return \"Obesitas\"\n",
    "    \n",
    "berat = float(input(\"Masukkan berat badan (kg): \"))\n",
    "tinggi = float(input(\"Masukkan tinggi badan (cm): \"))\n",
    "\n",
    "bmi = hitung_bmi(berat, tinggi)\n",
    "kategori = kategori_bmi(bmi)\n",
    "\n",
    "print(f\"BMI Anda adalah {bmi:.2f} ({kategori}).\")"
   ]
  }
 ],
 "metadata": {
  "kernelspec": {
   "display_name": "base",
   "language": "python",
   "name": "python3"
  },
  "language_info": {
   "codemirror_mode": {
    "name": "ipython",
    "version": 3
   },
   "file_extension": ".py",
   "mimetype": "text/x-python",
   "name": "python",
   "nbconvert_exporter": "python",
   "pygments_lexer": "ipython3",
   "version": "3.11.5"
  }
 },
 "nbformat": 4,
 "nbformat_minor": 2
}
