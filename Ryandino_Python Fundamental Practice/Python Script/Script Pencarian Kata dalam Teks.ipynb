{
 "cells": [
  {
   "cell_type": "code",
   "execution_count": 1,
   "metadata": {},
   "outputs": [
    {
     "name": "stdout",
     "output_type": "stream",
     "text": [
      "'teks' ditemukan dalam teks.\n"
     ]
    }
   ],
   "source": [
    "teks = \"\"\"ini adalah contoh teks.\n",
    "Teks ini digunakan untuk latihan pencarian kata.\"\"\"\n",
    "\n",
    "kata_cari = input(\"Masukkan kata yang ingin Anda cari: \")\n",
    "\n",
    "if kata_cari in teks:\n",
    "    print(f\"'{kata_cari}' ditemukan dalam teks.\")\n",
    "else:\n",
    "    print(f\"'{kata_cari}' tidak ditemukan dalam teks.\")"
   ]
  }
 ],
 "metadata": {
  "kernelspec": {
   "display_name": "base",
   "language": "python",
   "name": "python3"
  },
  "language_info": {
   "codemirror_mode": {
    "name": "ipython",
    "version": 3
   },
   "file_extension": ".py",
   "mimetype": "text/x-python",
   "name": "python",
   "nbconvert_exporter": "python",
   "pygments_lexer": "ipython3",
   "version": "3.11.5"
  }
 },
 "nbformat": 4,
 "nbformat_minor": 2
}
