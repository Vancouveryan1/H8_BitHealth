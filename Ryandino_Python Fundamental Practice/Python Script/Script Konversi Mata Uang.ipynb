{
 "cells": [
  {
   "cell_type": "code",
   "execution_count": 1,
   "metadata": {},
   "outputs": [
    {
     "name": "stdout",
     "output_type": "stream",
     "text": [
      "20.0 USD setara dengan 290000.0 IDR. \n"
     ]
    }
   ],
   "source": [
    "def konversi_mata_uang(jumlah, nilai_tukar):\n",
    "    return jumlah * nilai_tukar\n",
    "\n",
    "nilai_tukar_usd_ke_idr = 14500\n",
    "\n",
    "jumlah_usd = float(input(\"Masukkan jumlah dalam USD: \") )\n",
    "jumlah_idr = konversi_mata_uang(jumlah_usd, nilai_tukar_usd_ke_idr)\n",
    "\n",
    "print(f\"{jumlah_usd} USD setara dengan {jumlah_idr} IDR. \")"
   ]
  }
 ],
 "metadata": {
  "kernelspec": {
   "display_name": "base",
   "language": "python",
   "name": "python3"
  },
  "language_info": {
   "codemirror_mode": {
    "name": "ipython",
    "version": 3
   },
   "file_extension": ".py",
   "mimetype": "text/x-python",
   "name": "python",
   "nbconvert_exporter": "python",
   "pygments_lexer": "ipython3",
   "version": "3.11.5"
  }
 },
 "nbformat": 4,
 "nbformat_minor": 2
}
