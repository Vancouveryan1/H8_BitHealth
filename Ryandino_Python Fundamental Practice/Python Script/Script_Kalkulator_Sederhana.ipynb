{
 "cells": [
  {
   "cell_type": "code",
   "execution_count": 1,
   "metadata": {},
   "outputs": [
    {
     "name": "stdout",
     "output_type": "stream",
     "text": [
      "Pilih operasi:\n",
      "1. Tambah\n",
      "2. Kurang\n",
      "3. Kali\n",
      "4. Bagi\n",
      "5. Keluar\n",
      "Hasil: 15.0\n",
      "Pilih operasi:\n",
      "1. Tambah\n",
      "2. Kurang\n",
      "3. Kali\n",
      "4. Bagi\n",
      "5. Keluar\n",
      "Hasil: 5.0\n",
      "Pilih operasi:\n",
      "1. Tambah\n",
      "2. Kurang\n",
      "3. Kali\n",
      "4. Bagi\n",
      "5. Keluar\n",
      "Keluar dari kalkulator\n"
     ]
    }
   ],
   "source": [
    "def tambah(x, y):\n",
    "    return x + y\n",
    "\n",
    "def kurang(x, y):\n",
    "    return x - y\n",
    "\n",
    "def kali (x, y):\n",
    "    return x * y \n",
    "\n",
    "def bagi(x, y):\n",
    "    if y == 0:\n",
    "        return \"Tidak bisa dibagi oleh 0\"\n",
    "    return x / y\n",
    "\n",
    "while True:\n",
    "    print(\"Pilih operasi:\")\n",
    "    print(\"1. Tambah\")\n",
    "    print(\"2. Kurang\")\n",
    "    print(\"3. Kali\")\n",
    "    print(\"4. Bagi\")\n",
    "    print(\"5. Keluar\")\n",
    "\n",
    "\n",
    "    pilihan = input(\"Masukkan nomor operasi (1,2,3,4,5): \")\n",
    "\n",
    "    if pilihan == '5':\n",
    "        print(\"Keluar dari kalkulator\")\n",
    "        break \n",
    "\n",
    "    angka1 = float(input(\"Masukkan angka pertama: \"))\n",
    "    angka2 = float(input(\"Masukkan angka kedua: \"))\n",
    "\n",
    "    if pilihan == '1':\n",
    "        print(\"Hasil:\", tambah(angka1, angka2))\n",
    "    elif pilihan == '2':\n",
    "        print(\"Hasil:\", kurang(angka1, angka2))\n",
    "    elif pilihan == '3':\n",
    "        print(\"Hasil:\", kali(angka1, angka2))\n",
    "    elif plihan == '4':\n",
    "        print(\"Hasil:\", bagi(angka1, angka2))\n",
    "    else:\n",
    "        print(\"Pilihan tidak valid\")\n"
   ]
  }
 ],
 "metadata": {
  "kernelspec": {
   "display_name": "base",
   "language": "python",
   "name": "python3"
  },
  "language_info": {
   "codemirror_mode": {
    "name": "ipython",
    "version": 3
   },
   "file_extension": ".py",
   "mimetype": "text/x-python",
   "name": "python",
   "nbconvert_exporter": "python",
   "pygments_lexer": "ipython3",
   "version": "3.11.5"
  }
 },
 "nbformat": 4,
 "nbformat_minor": 2
}
