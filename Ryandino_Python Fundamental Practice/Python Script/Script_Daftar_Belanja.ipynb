{
 "cells": [
  {
   "cell_type": "code",
   "execution_count": 1,
   "metadata": {},
   "outputs": [
    {
     "name": "stdout",
     "output_type": "stream",
     "text": [
      "Apa yang ingin Anda lakukan?\n",
      "1. Tambah item ke daftar belanja\n",
      "2. Hapus item dari daftar belanja\n",
      "3. Tampilkan daftar belanja\n",
      "4. Keluar\n",
      "Apel telah ditambahkan ke daftar belanja.\n",
      "Apa yang ingin Anda lakukan?\n",
      "1. Tambah item ke daftar belanja\n",
      "2. Hapus item dari daftar belanja\n",
      "3. Tampilkan daftar belanja\n",
      "4. Keluar\n",
      "Daftar Belanja:\n",
      "= Apel\n",
      "Apa yang ingin Anda lakukan?\n",
      "1. Tambah item ke daftar belanja\n",
      "2. Hapus item dari daftar belanja\n",
      "3. Tampilkan daftar belanja\n",
      "4. Keluar\n",
      "Keluar dari daftar belanja\n"
     ]
    }
   ],
   "source": [
    "shopping_list = []\n",
    "\n",
    "def tambah_item(item):\n",
    "    shopping_list.append(item)\n",
    "    print(f\"{item} telah ditambahkan ke daftar belanja.\")\n",
    "\n",
    "def hapus_item(item):\n",
    "    if item in shopping_list:\n",
    "        shopping_list.remove(item)\n",
    "        print(f\"{item} tidak ditemukan dalam daftar belanja.\")\n",
    "    else:\n",
    "        print(f\"{item} tidak ditemukan dari daftar belanja.\")\n",
    "\n",
    "def tampilkan_daftar():\n",
    "    print(\"Daftar Belanja:\")\n",
    "    for item in shopping_list:\n",
    "        print(\"=\", item)\n",
    "\n",
    "while True:\n",
    "    print(\"Apa yang ingin Anda lakukan?\")\n",
    "    print(\"1. Tambah item ke daftar belanja\")\n",
    "    print(\"2. Hapus item dari daftar belanja\")\n",
    "    print(\"3. Tampilkan daftar belanja\")\n",
    "    print(\"4. Keluar\")\n",
    "\n",
    "    pilihan = input(\"Pilih tindakan (1/2/3/4): \")\n",
    "\n",
    "    if pilihan == '1':\n",
    "        item = input(\"Masukkan item yang ingin ditambahkan: \")\n",
    "        tambah_item(item)\n",
    "    elif pilihan == '2':\n",
    "        item = input(\"Masukkan item yang ingin dihapus: \")\n",
    "    elif pilihan == '3':\n",
    "        tampilkan_daftar()\n",
    "    elif pilihan == '4':\n",
    "        print(\"Keluar dari daftar belanja\")\n",
    "        break\n",
    "    else:\n",
    "        print(\"Pilihan tidak valid\")"
   ]
  }
 ],
 "metadata": {
  "kernelspec": {
   "display_name": "base",
   "language": "python",
   "name": "python3"
  },
  "language_info": {
   "codemirror_mode": {
    "name": "ipython",
    "version": 3
   },
   "file_extension": ".py",
   "mimetype": "text/x-python",
   "name": "python",
   "nbconvert_exporter": "python",
   "pygments_lexer": "ipython3",
   "version": "3.11.5"
  }
 },
 "nbformat": 4,
 "nbformat_minor": 2
}
