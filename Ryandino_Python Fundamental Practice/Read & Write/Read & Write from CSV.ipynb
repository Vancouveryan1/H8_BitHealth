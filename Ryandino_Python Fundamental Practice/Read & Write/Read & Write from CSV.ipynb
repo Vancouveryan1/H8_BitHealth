{
 "cells": [
  {
   "cell_type": "code",
   "execution_count": null,
   "metadata": {},
   "outputs": [],
   "source": [
    "import csv\n",
    "\n",
    "def baca_data_csv(nama_file):\n",
    "    data = []\n",
    "    with open(nama_file, mode='r') as file:\n",
    "        csv_reader = csv.DictReader(file)\n",
    "        for row in csv_reader:\n",
    "            data.append(row)\n",
    "    return data\n",
    "\n",
    "def tulis_data_csv(nama_file, data):\n",
    "    with open(nama_file, mode='w', newline='') as file:\n",
    "        fieldnames = data[0].keys()\n",
    "        writer = csv.DictWriter(file, fieldnames=fieldnames)\n",
    "        writer.writeheader()\n",
    "        writer.writerows(data)\n",
    "\n",
    "def main():\n",
    "    nama_file = 'produk.csv'\n",
    "    produk = baca_data_csv(nama_file)\n",
    "\n",
    "    print(\"Data Produk:\")\n",
    "    for item in produk:\n",
    "        print(f\"{item['Nama Produk']}: {item['Harga']} IDR, Stok: {item['Stok']}\")\n",
    "\n",
    "    tambah_produk = input(\"Tambah produk baru? (y/n): \")\n",
    "    if tambah_produk.lower() == 'y':\n",
    "        nama_produk = input(\"Nama produk: \")\n",
    "        harga_produk = input(\"Harga produk (IDR): \")\n",
    "        stok_produk = input(\"Stok produk: \")\n",
    "\n",
    "        produk_baru = {'Nama Produk': nama_produk, 'Harga': harga_produk, 'Stok': stok_produk}\n",
    "        produk.append(produk_baru)\n",
    "\n",
    "        tulis_data_csv(nama_file, produk)\n",
    "        print(\"Produk berhasil ditambahkan dan disimpan.\")\n",
    "\n",
    "if __name__ == \"__main__\":\n",
    "    main()"
   ]
  }
 ],
 "metadata": {
  "language_info": {
   "name": "python"
  }
 },
 "nbformat": 4,
 "nbformat_minor": 2
}
