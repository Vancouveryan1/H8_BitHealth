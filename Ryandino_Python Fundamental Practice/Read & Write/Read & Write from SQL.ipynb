{
 "cells": [
  {
   "cell_type": "code",
   "execution_count": null,
   "metadata": {},
   "outputs": [],
   "source": [
    "import sqlite3\n",
    "\n",
    "# Fungsi untuk membaca data dari tabel\n",
    "def baca_data_sqlite(database_file):\n",
    "    connection = sqlite3.connect(database_file)\n",
    "    cursor = connection.cursor()\n",
    "    cursor.execute(\"SELECT * FROM produk\")\n",
    "    data = cursor.fetchall()\n",
    "    connection.close()\n",
    "    return data\n",
    "\n",
    "# Fungai untuk menambahkan data ke dalam tabel\n",
    "def tambah_data_sqlite3(database_file, nama_produk, harga, stok):\n",
    "    connection = sqlite3.connect(database_file)\n",
    "    cursor = connection.cursor()\n",
    "    cursor.execute(\"INSERT INTO produk (nama_produk, harga, stok) VALUES (?, ?, ?)\", \n",
    "                   (nama_produk, harga, stok))\n",
    "    connection.commit()\n",
    "    connection.close()\n",
    "\n",
    "def main():\n",
    "    database_file = 'produk.db'\n",
    "    produk = baca_data_sqlite(database_file)\n",
    "\n",
    "    print(\"Data Produk:\")\n",
    "    for item in produk:\n",
    "        print(f\"{item[1]: {item[2]} IDR, Stok: {item[3]}}\")\n",
    "\n",
    "    tambah_produk = input (\"Tambah prduk baru? (y/n): \")\n",
    "    if tambah_produk.lower() == 'y':\n",
    "        nama_produk = input(\"Nama produk: \")\n",
    "        harga_produk = input(\"Harga produk (IDR): \")\n",
    "        stok_produk = input(\"Stok produk: \")\n",
    "\n",
    "        tambah_data_sqlite3(database_file, nama_produk, harga_produk, stok_produk)\n",
    "        print(\"Produk berhasil ditambahkan dan disimpan.\")\n",
    "\n",
    "    if __name__ == \"__main__\":\n",
    "        main()"
   ]
  }
 ],
 "metadata": {
  "language_info": {
   "name": "python"
  }
 },
 "nbformat": 4,
 "nbformat_minor": 2
}
