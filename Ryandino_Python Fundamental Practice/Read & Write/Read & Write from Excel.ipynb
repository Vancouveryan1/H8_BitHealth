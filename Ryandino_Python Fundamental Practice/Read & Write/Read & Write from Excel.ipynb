{
 "cells": [
  {
   "cell_type": "code",
   "execution_count": null,
   "metadata": {},
   "outputs": [],
   "source": [
    "import pandas as pandas\n",
    "\n",
    "def baca_data excel(nama_file):\n",
    "    df = pd.read_excel(nama_file)\n",
    "    return df\n",
    "\n",
    "def tulis_data_excel(nama_file, df):\n",
    "    df.to_excel(nama_file, index=False)\n",
    "\n",
    "def main():\n",
    "    nama_file = 'produk.xlsx'\n",
    "    produk = baca_data_excel(nama_file)\n",
    "\n",
    "    print(\"Data_Produk:\")\n",
    "    print(produk)\n",
    "\n",
    "    tambah_produk = input(\"Tambah produk baru? (y/n): \")\n",
    "    if tambah_produk.lower() == 'y':\n",
    "        nama_produk = input(\"Nama Produk: \")\n",
    "        harga_produk = input(\"Harga produk (IDR): \")\n",
    "        stok_produk = input(\"Stok produk: \")\n",
    "\n",
    "        produk_baru = {'Nama Produk': nama_produk, 'Harga': harga_produk, 'Stok': stok_produk}\n",
    "        produk = produk.append(produk_baru, ignore_index=True)\n",
    "\n",
    "        tulis_data_excel(nama_file, produk)\n",
    "        print(\"Produk berhasil ditambahkan dan disimpan.\")\n",
    "\n",
    "    if __name__ == \"__main__\":\n",
    "        main()"
   ]
  }
 ],
 "metadata": {
  "kernelspec": {
   "display_name": "base",
   "language": "python",
   "name": "python3"
  },
  "language_info": {
   "codemirror_mode": {
    "name": "ipython",
    "version": 3
   },
   "file_extension": ".py",
   "mimetype": "text/x-python",
   "name": "python",
   "nbconvert_exporter": "python",
   "pygments_lexer": "ipython3",
   "version": "3.11.5"
  }
 },
 "nbformat": 4,
 "nbformat_minor": 2
}
